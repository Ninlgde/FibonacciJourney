{
 "cells": [
  {
   "cell_type": "markdown",
   "id": "distinct-geology",
   "metadata": {},
   "source": [
    "# 第四种解法--矩阵法"
   ]
  },
  {
   "cell_type": "code",
   "execution_count": 1,
   "id": "objective-twins",
   "metadata": {},
   "outputs": [],
   "source": [
    "class Matrix(object):\n",
    "    def __init__(self, a, b, c, d):\n",
    "        self.a = a\n",
    "        self.b = b\n",
    "        self.c = c\n",
    "        self.d = d\n",
    "        \n",
    "    def mul(self, other):\n",
    "        # a[0][0] * b[0][0] + a[0][1] * b[1][0];\n",
    "        # a[0][0] * b[0][1] + a[0][1] * b[1][1];\n",
    "        # a[1][0] * b[0][0] + a[1][1] * b[1][0];\n",
    "        # a[1][0] * b[0][1] + a[1][1] * b[1][1];\n",
    "        return Matrix(\n",
    "            self.a*other.a + self.b*other.c,\n",
    "            self.a*other.b + self.b*other.d,\n",
    "            self.c*other.a + self.d*other.c,\n",
    "            self.c*other.b + self.d*other.d,\n",
    "        )"
   ]
  },
  {
   "cell_type": "code",
   "execution_count": 2,
   "id": "unlimited-heritage",
   "metadata": {},
   "outputs": [],
   "source": [
    "def fast_pow_mat(x, n):\n",
    "    I = Matrix(1, 0, 0, 1)\n",
    "    while n > 0:\n",
    "        if n & 1 == 1:\n",
    "            I = I.mul(x)\n",
    "        x = x.mul(x)\n",
    "        n >>= 1 # 每次缩减一半，所以时间复杂度是log(n)\n",
    "    return I"
   ]
  },
  {
   "cell_type": "code",
   "execution_count": 3,
   "id": "median-professional",
   "metadata": {},
   "outputs": [],
   "source": [
    "def fib_matrix(n):\n",
    "    x = Matrix(1.0, 1.0, 1.0, 0.0)\n",
    "    r = fast_pow_mat(x, n)\n",
    "    \n",
    "    return r.b"
   ]
  },
  {
   "cell_type": "code",
   "execution_count": 5,
   "id": "loved-joshua",
   "metadata": {},
   "outputs": [
    {
     "name": "stdout",
     "output_type": "stream",
     "text": [
      "CPU times: user 37 µs, sys: 0 ns, total: 37 µs\n",
      "Wall time: 39.1 µs\n"
     ]
    },
    {
     "data": {
      "text/plain": [
       "inf"
      ]
     },
     "execution_count": 5,
     "metadata": {},
     "output_type": "execute_result"
    }
   ],
   "source": [
    "%time fib_matrix(100000)"
   ]
  },
  {
   "cell_type": "code",
   "execution_count": null,
   "id": "governing-affect",
   "metadata": {},
   "outputs": [],
   "source": []
  }
 ],
 "metadata": {
  "kernelspec": {
   "display_name": "Python 3",
   "language": "python",
   "name": "python3"
  },
  "language_info": {
   "codemirror_mode": {
    "name": "ipython",
    "version": 3
   },
   "file_extension": ".py",
   "mimetype": "text/x-python",
   "name": "python",
   "nbconvert_exporter": "python",
   "pygments_lexer": "ipython3",
   "version": "3.6.10"
  }
 },
 "nbformat": 4,
 "nbformat_minor": 5
}
