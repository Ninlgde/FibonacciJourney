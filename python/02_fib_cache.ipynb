{
 "cells": [
  {
   "cell_type": "markdown",
   "id": "literary-likelihood",
   "metadata": {},
   "source": [
    "# 第二种解法--缓存法"
   ]
  },
  {
   "cell_type": "code",
   "execution_count": 1,
   "id": "covered-milan",
   "metadata": {},
   "outputs": [],
   "source": [
    "def fib_recursion_cache(cache, n):\n",
    "    if n <= 1:\n",
    "        cache[n] = float(n)\n",
    "        return cache[n]\n",
    "    if cache.get(n, None):\n",
    "        return cache[n]\n",
    "    cache[n] = fib_recursion_cache(cache, n-1) + fib_recursion_cache(cache, n-2)\n",
    "    return cache[n]"
   ]
  },
  {
   "cell_type": "code",
   "execution_count": 6,
   "id": "detailed-thumbnail",
   "metadata": {},
   "outputs": [],
   "source": [
    "def fib_cache(n):\n",
    "    cache = {}\n",
    "    return fib_recursion_cache(cache, n+1)"
   ]
  },
  {
   "cell_type": "code",
   "execution_count": 7,
   "id": "fewer-english",
   "metadata": {},
   "outputs": [
    {
     "name": "stdout",
     "output_type": "stream",
     "text": [
      "CPU times: user 6 µs, sys: 0 ns, total: 6 µs\n",
      "Wall time: 7.15 µs\n"
     ]
    },
    {
     "data": {
      "text/plain": [
       "2.0"
      ]
     },
     "execution_count": 7,
     "metadata": {},
     "output_type": "execute_result"
    }
   ],
   "source": [
    "%time fib_cache(2)"
   ]
  },
  {
   "cell_type": "code",
   "execution_count": null,
   "id": "welcome-bread",
   "metadata": {},
   "outputs": [],
   "source": []
  }
 ],
 "metadata": {
  "kernelspec": {
   "display_name": "Python 3",
   "language": "python",
   "name": "python3"
  },
  "language_info": {
   "codemirror_mode": {
    "name": "ipython",
    "version": 3
   },
   "file_extension": ".py",
   "mimetype": "text/x-python",
   "name": "python",
   "nbconvert_exporter": "python",
   "pygments_lexer": "ipython3",
   "version": "3.6.10"
  }
 },
 "nbformat": 4,
 "nbformat_minor": 5
}
