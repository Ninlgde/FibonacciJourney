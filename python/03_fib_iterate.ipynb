{
 "cells": [
  {
   "cell_type": "markdown",
   "id": "compact-evaluation",
   "metadata": {},
   "source": [
    "# 第三种解法--迭代法"
   ]
  },
  {
   "cell_type": "code",
   "execution_count": 1,
   "id": "fourth-enclosure",
   "metadata": {},
   "outputs": [],
   "source": [
    "# To iterate is human,to recurse divine.\n",
    "def fib_iterate(n):\n",
    "    a, b = 1.0, 0.0\n",
    "    for _ in range(n-1):\n",
    "        a, b = a + b, a # => t=a;a=a+b;b=t\n",
    "    return a"
   ]
  },
  {
   "cell_type": "code",
   "execution_count": 3,
   "id": "specialized-objective",
   "metadata": {},
   "outputs": [
    {
     "name": "stdout",
     "output_type": "stream",
     "text": [
      "CPU times: user 5.96 ms, sys: 369 µs, total: 6.33 ms\n",
      "Wall time: 6 ms\n"
     ]
    },
    {
     "data": {
      "text/plain": [
       "inf"
      ]
     },
     "execution_count": 3,
     "metadata": {},
     "output_type": "execute_result"
    }
   ],
   "source": [
    "%time fib_iterate(100000)"
   ]
  },
  {
   "cell_type": "code",
   "execution_count": null,
   "id": "golden-roulette",
   "metadata": {},
   "outputs": [],
   "source": []
  }
 ],
 "metadata": {
  "kernelspec": {
   "display_name": "Python 3",
   "language": "python",
   "name": "python3"
  },
  "language_info": {
   "codemirror_mode": {
    "name": "ipython",
    "version": 3
   },
   "file_extension": ".py",
   "mimetype": "text/x-python",
   "name": "python",
   "nbconvert_exporter": "python",
   "pygments_lexer": "ipython3",
   "version": "3.6.10"
  }
 },
 "nbformat": 4,
 "nbformat_minor": 5
}
