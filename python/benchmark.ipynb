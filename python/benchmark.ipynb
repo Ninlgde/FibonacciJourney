{
 "cells": [
  {
   "cell_type": "markdown",
   "id": "private-addition",
   "metadata": {},
   "source": [
    "# 压力测试"
   ]
  },
  {
   "cell_type": "code",
   "execution_count": 1,
   "id": "bronze-chest",
   "metadata": {},
   "outputs": [],
   "source": [
    "from fib import *\n",
    "N = 1000 # 测试大小"
   ]
  },
  {
   "cell_type": "markdown",
   "id": "fantastic-russia",
   "metadata": {},
   "source": [
    "### 0.递归法\n",
    "\n",
    "~~为了你我的狗命我还是不压测这个方法了~~"
   ]
  },
  {
   "cell_type": "markdown",
   "id": "dominant-christian",
   "metadata": {},
   "source": [
    "### 1. 缓存法"
   ]
  },
  {
   "cell_type": "code",
   "execution_count": 2,
   "id": "adult-teens",
   "metadata": {},
   "outputs": [
    {
     "name": "stdout",
     "output_type": "stream",
     "text": [
      "263 ns ± 7.75 ns per loop (mean ± std. dev. of 7 runs, 1000000 loops each)\n"
     ]
    }
   ],
   "source": [
    "%timeit fib_cache(N)"
   ]
  },
  {
   "cell_type": "markdown",
   "id": "accepting-wrist",
   "metadata": {},
   "source": [
    "### 2.迭代法"
   ]
  },
  {
   "cell_type": "code",
   "execution_count": 27,
   "id": "swedish-terrorist",
   "metadata": {},
   "outputs": [
    {
     "name": "stdout",
     "output_type": "stream",
     "text": [
      "39.7 µs ± 901 ns per loop (mean ± std. dev. of 7 runs, 10000 loops each)\n"
     ]
    }
   ],
   "source": [
    "%timeit fib_iterate(N)"
   ]
  },
  {
   "cell_type": "markdown",
   "id": "bound-australian",
   "metadata": {},
   "source": [
    "### 3.矩阵法"
   ]
  },
  {
   "cell_type": "code",
   "execution_count": 28,
   "id": "separated-amendment",
   "metadata": {},
   "outputs": [
    {
     "name": "stdout",
     "output_type": "stream",
     "text": [
      "18.2 µs ± 691 ns per loop (mean ± std. dev. of 7 runs, 100000 loops each)\n"
     ]
    }
   ],
   "source": [
    "%timeit fib_matrix(N)"
   ]
  },
  {
   "cell_type": "markdown",
   "id": "decreased-sympathy",
   "metadata": {},
   "source": [
    "### 4.通项公式法"
   ]
  },
  {
   "cell_type": "code",
   "execution_count": 29,
   "id": "disabled-chancellor",
   "metadata": {},
   "outputs": [
    {
     "name": "stdout",
     "output_type": "stream",
     "text": [
      "3.03 µs ± 138 ns per loop (mean ± std. dev. of 7 runs, 100000 loops each)\n"
     ]
    }
   ],
   "source": [
    "%timeit fib_formula(N)"
   ]
  },
  {
   "cell_type": "code",
   "execution_count": 30,
   "id": "altered-visitor",
   "metadata": {},
   "outputs": [
    {
     "name": "stdout",
     "output_type": "stream",
     "text": [
      "248 ns ± 5.08 ns per loop (mean ± std. dev. of 7 runs, 1000000 loops each)\n"
     ]
    }
   ],
   "source": [
    "%timeit fib_formula_builtin1(N)"
   ]
  },
  {
   "cell_type": "code",
   "execution_count": 31,
   "id": "raising-gospel",
   "metadata": {},
   "outputs": [
    {
     "name": "stdout",
     "output_type": "stream",
     "text": [
      "366 ns ± 3.91 ns per loop (mean ± std. dev. of 7 runs, 1000000 loops each)\n"
     ]
    }
   ],
   "source": [
    "%timeit fib_formula_builtin2(N)"
   ]
  },
  {
   "cell_type": "code",
   "execution_count": null,
   "id": "stuck-invitation",
   "metadata": {},
   "outputs": [],
   "source": []
  }
 ],
 "metadata": {
  "kernelspec": {
   "display_name": "Python 3",
   "language": "python",
   "name": "python3"
  },
  "language_info": {
   "codemirror_mode": {
    "name": "ipython",
    "version": 3
   },
   "file_extension": ".py",
   "mimetype": "text/x-python",
   "name": "python",
   "nbconvert_exporter": "python",
   "pygments_lexer": "ipython3",
   "version": "3.6.10"
  }
 },
 "nbformat": 4,
 "nbformat_minor": 5
}
