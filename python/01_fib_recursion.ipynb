{
 "cells": [
  {
   "cell_type": "markdown",
   "id": "russian-swiss",
   "metadata": {},
   "source": [
    "# 第一种解法--递归法"
   ]
  },
  {
   "cell_type": "code",
   "execution_count": 1,
   "id": "still-radical",
   "metadata": {},
   "outputs": [],
   "source": [
    "def fib_recursion(n):\n",
    "    if n <= 1:\n",
    "        return float(n)\n",
    "    return fib_recursion(n-1) + fib_recursion(n-2)"
   ]
  },
  {
   "cell_type": "code",
   "execution_count": 2,
   "id": "monthly-volleyball",
   "metadata": {},
   "outputs": [
    {
     "name": "stdout",
     "output_type": "stream",
     "text": [
      "CPU times: user 4.23 s, sys: 12.8 ms, total: 4.24 s\n",
      "Wall time: 4.25 s\n"
     ]
    },
    {
     "data": {
      "text/plain": [
       "9227465.0"
      ]
     },
     "execution_count": 2,
     "metadata": {},
     "output_type": "execute_result"
    }
   ],
   "source": [
    "%time fib_recursion(35)"
   ]
  },
  {
   "cell_type": "markdown",
   "id": "resident-workshop",
   "metadata": {},
   "source": []
  }
 ],
 "metadata": {
  "kernelspec": {
   "display_name": "Python 3",
   "language": "python",
   "name": "python3"
  },
  "language_info": {
   "codemirror_mode": {
    "name": "ipython",
    "version": 3
   },
   "file_extension": ".py",
   "mimetype": "text/x-python",
   "name": "python",
   "nbconvert_exporter": "python",
   "pygments_lexer": "ipython3",
   "version": "3.6.10"
  }
 },
 "nbformat": 4,
 "nbformat_minor": 5
}
