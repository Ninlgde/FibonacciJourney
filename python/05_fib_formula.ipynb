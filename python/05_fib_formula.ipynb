{
 "cells": [
  {
   "cell_type": "markdown",
   "id": "quick-livestock",
   "metadata": {},
   "source": [
    "# 第五种解法--通项公式法\n",
    "\n",
    "### 5.1 自己实现快速幂"
   ]
  },
  {
   "cell_type": "code",
   "execution_count": 1,
   "id": "valued-pricing",
   "metadata": {},
   "outputs": [],
   "source": [
    "# 根号5, a, b提前算好，避免重复计算\n",
    "sqrt5 = 5 ** 0.5\n",
    "a = (1 + sqrt5) / 2\n",
    "b = (1 - sqrt5) / 2"
   ]
  },
  {
   "cell_type": "code",
   "execution_count": 3,
   "id": "medical-heather",
   "metadata": {},
   "outputs": [],
   "source": [
    "def fib_formula(n):\n",
    "    return (fast_pow(a, n) - fast_pow(b, n)) / sqrt5"
   ]
  },
  {
   "cell_type": "code",
   "execution_count": 4,
   "id": "unlikely-ladder",
   "metadata": {},
   "outputs": [
    {
     "name": "stdout",
     "output_type": "stream",
     "text": [
      "CPU times: user 9 µs, sys: 0 ns, total: 9 µs\n",
      "Wall time: 27.9 µs\n"
     ]
    },
    {
     "data": {
      "text/plain": [
       "4.346655768693734e+208"
      ]
     },
     "execution_count": 4,
     "metadata": {},
     "output_type": "execute_result"
    }
   ],
   "source": [
    "%time fib_formula(1000)"
   ]
  },
  {
   "cell_type": "markdown",
   "id": "renewable-specific",
   "metadata": {},
   "source": [
    "### 5.2 使用Python内置幂"
   ]
  },
  {
   "cell_type": "code",
   "execution_count": 5,
   "id": "quarterly-disposition",
   "metadata": {},
   "outputs": [],
   "source": [
    "def fib_formula_builtin1(n):\n",
    "    return (a ** n - b ** n) / sqrt5"
   ]
  },
  {
   "cell_type": "code",
   "execution_count": 7,
   "id": "embedded-sunglasses",
   "metadata": {},
   "outputs": [
    {
     "name": "stdout",
     "output_type": "stream",
     "text": [
      "CPU times: user 4 µs, sys: 1 µs, total: 5 µs\n",
      "Wall time: 6.91 µs\n"
     ]
    },
    {
     "data": {
      "text/plain": [
       "4.3466557686938915e+208"
      ]
     },
     "execution_count": 7,
     "metadata": {},
     "output_type": "execute_result"
    }
   ],
   "source": [
    "%time fib_formula_builtin1(1000)"
   ]
  },
  {
   "cell_type": "code",
   "execution_count": 8,
   "id": "linear-research",
   "metadata": {},
   "outputs": [],
   "source": [
    "def fib_formula_builtin2(n):\n",
    "    return (pow(a, n) - pow(b, n)) / sqrt5"
   ]
  },
  {
   "cell_type": "code",
   "execution_count": 9,
   "id": "joint-transsexual",
   "metadata": {},
   "outputs": [
    {
     "name": "stdout",
     "output_type": "stream",
     "text": [
      "CPU times: user 5 µs, sys: 0 ns, total: 5 µs\n",
      "Wall time: 7.15 µs\n"
     ]
    },
    {
     "data": {
      "text/plain": [
       "4.3466557686938915e+208"
      ]
     },
     "execution_count": 9,
     "metadata": {},
     "output_type": "execute_result"
    }
   ],
   "source": [
    "%time fib_formula_builtin2(1000)"
   ]
  },
  {
   "cell_type": "code",
   "execution_count": null,
   "id": "fatal-seventh",
   "metadata": {},
   "outputs": [],
   "source": []
  }
 ],
 "metadata": {
  "kernelspec": {
   "display_name": "Python 3",
   "language": "python",
   "name": "python3"
  },
  "language_info": {
   "codemirror_mode": {
    "name": "ipython",
    "version": 3
   },
   "file_extension": ".py",
   "mimetype": "text/x-python",
   "name": "python",
   "nbconvert_exporter": "python",
   "pygments_lexer": "ipython3",
   "version": "3.6.10"
  }
 },
 "nbformat": 4,
 "nbformat_minor": 5
}
